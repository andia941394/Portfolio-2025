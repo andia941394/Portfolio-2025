{
 "cells": [
  {
   "cell_type": "markdown",
   "metadata": {},
   "source": [
    "# IST 652 PROJECT PROPOSAL \n",
    "\n",
    "\n",
    "The final project for IST652 involves locating an open data set or a group of data sets of interest, formulating an inquiry or set of inquiries that could be addressed with the data,processing the data set(s) in a Jupyter Notebook environment using Python, and conducting some analyses on the data to illuminate the inquiry. The project focuses on open data in order to ensure that your chain of transformations and analysis is\n",
    "reproducible. \n",
    "\n",
    "This is the FIRST DELIVERABLE \n",
    "\n",
    "\n",
    "## Project Objective\n",
    "\n",
    "Primary objectives for the project are ..\n",
    "\n",
    "- Demonstrate your ability to write Python scripts to access and process data.\n",
    "- Describe steps taken to prepare the data for analysis. For example how did you access and ingest the data, data wrangling, formatting, feature engineering and other steps. \n",
    "- Develop a research questions you are hoping to answer from the data collected.\n",
    "- Clearly articulate findings from analysis and summarizes impactful findings.\n",
    "- Collaborate as a team.\n",
    "\n",
    "\n"
   ]
  },
  {
   "cell_type": "markdown",
   "metadata": {},
   "source": [
    "## Analysis Team \n",
    "\n",
    "List team members below and their roles (note roles may be modified in the second deliverable)\n",
    "\n",
    "Berber Bakermans: Data exploration.\n",
    "Marjan Abedine: Data exploration.\n"
   ]
  },
  {
   "cell_type": "markdown",
   "metadata": {},
   "source": [
    "# Phase 1: Ideation\n",
    "\n",
    "## Primary Goal\n",
    "We want to take a closer look at the Citibike usage data for July 2024. Our goal is to better understand riding behavior, peak usage times, popular routes, and any differences between member and casual riders.\n",
    "\n",
    "## Objectives\n",
    "- Analyze trends in ride duration and how often rides happen.\n",
    "- Identify the most frequently used stations.\n",
    "- Look at the distribution of bike types (e.g., electric vs. standard bikes).\n",
    "- Compare the behavior of members and casual riders.\n",
    "- Create visualizations to give useful insights for better transportation planning and resource management.\n",
    "\n",
    "## Feasibility and Supporting Resources\n",
    "Below are some tools and resources that will help us with the analysis:\n",
    "\n",
    "- **Pandas Library for Data Manipulation**:\n",
    "  Pandas will be used to load, clean, and organize the data, making it easier to work with.\n",
    "\n",
    "- **Matplotlib and Seaborn for Visualization**:\n",
    "  These libraries will help create visuals like line charts for trends, bar graphs for popular stations, and heatmaps to show usage at different times of the day.\n",
    "\n",
    "- **Citibike NYC Data**:\n",
    "  - *Source*: NYC Department of Transportation. (2024). *Citibike Trip Data - July 2024*.\n",
    "  - *Retrieved from*: [NYC Open Data](https://opendata.cityofnewyork.us)\n",
    "  - *Details*: This dataset includes trip details such as timestamps, station information, and user types. It will help us understand bike-sharing patterns in New York City.\n",
    "\n"
   ]
  },
  {
   "cell_type": "markdown",
   "metadata": {},
   "source": [
    "### Step 1: Project Summary \n",
    "\n",
    "\n"
   ]
  },
  {
   "cell_type": "markdown",
   "metadata": {},
   "source": [
    "# Project Overview: Analyzing Citibike Usage Data for July 2024\n",
    "\n",
    "## Primary Objective\n",
    "The main goal of this project is to analyze Citibike usage data for July 2024. We aim to discover trends, understand user behavior, and provide data-driven insights that can inform management strategies for transportation in New York City. Our focus will be on understanding key aspects of user patterns such as ride frequency, trip durations, popular routes, and the differences between members and casual users.\n",
    "\n",
    "## Project Plan\n",
    "### Data Preparation\n",
    "We will start by loading and preprocessing the Citibike data. This includes cleaning and formatting the data to ensure it is ready for analysis. We will make decisions that best fit the dataset to maximize its usefulness.\n",
    "\n",
    "### Exploratory Data Analysis (EDA)\n",
    "We will conduct an exploratory data analysis to dive deeper into the dataset and uncover actionable insights. This phase will also help us identify any new questions that may need further investigation. Our specific areas of focus will include:\n",
    "\n",
    "- **Identifying Peak Usage Times**:\n",
    "  This will help with resource planning and ensure Citibike stations are properly equipped during busy times.\n",
    "\n",
    "- **Mapping Popular Stations and Routes**:\n",
    "  This can highlight which areas need more attention or infrastructure improvements.\n",
    "\n",
    "- **Comparing Member and Casual User Behavior**:\n",
    "  Understanding differences between these groups can support targeted marketing efforts and service improvements. For example, we want to find out if casual riders prefer certain routes or times compared to members.\n",
    "\n",
    "- **Electric vs. Standard Bike Usage**:\n",
    "  Analyzing which type of bike is preferred will help transportation planners make more informed decisions about future investments.\n",
    "\n",
    "## Tools and Resources\n",
    "For analysis and visualization, we will use:\n",
    "- **Pandas**: To manipulate and clean the data.\n",
    "- **Matplotlib and Seaborn**: To create charts and graphs that visualize our findings.\n",
    "\n",
    "## Expected Outcomes\n",
    "By completing this project, stakeholders such as city planners, transportation authorities, and Citibike itself will gain a better understanding of user needs. They will have clearer insights into peak usage times, high-traffic routes, and user demographics. This can drive strategic decisions that improve user satisfaction and operational efficiency.\n"
   ]
  },
  {
   "cell_type": "markdown",
   "metadata": {},
   "source": [
    "# Dataset Research\n",
    "\n",
    "## Primary Dataset: Citibike Trip Data (July 2024)\n",
    "\n",
    "- **Description**: This dataset contains records of Citibike trips in New York City. It has 3,217,063 rows and 13 columns for the month of July 2024. The dataset includes attributes like ride ID, bike type, start and end times, station names and IDs, geographic coordinates (latitude and longitude), and user type (member or casual).\n",
    "\n",
    "- **Authority**: NYC Open Data is a reliable source managed by the city government. It provides access to accurate and up-to-date data, ensuring the credibility of the information for our analysis.\n",
    "\n",
    "## Supplementary Datasets (if necessary):\n",
    "\n",
    "### Weather Data (July 2024)\n",
    "- **Source**: NOAA National Centers for Environmental Information (https://www.ncdc.noaa.gov)\n",
    "- **Description**: Daily or hourly weather conditions, including temperature, precipitation, and humidity. This data can help us see how weather affects rider behavior.\n",
    "- **Authority Justification**: The NOAA is a government organization that provides climate and weather data for research and public use.\n",
    "\n",
    "### Demographic Data by NYC Boroughs\n",
    "- **Source**: U.S. Census Bureau (https://www.census.gov/data.html)\n",
    "- **Description**: Demographic statistics on population density, age distribution, and income levels for different areas in NYC. This information can help us analyze Citi Bike usage in relation to population demographics.\n",
    "- **Authority Justification**: The U.S. Census Bureau is the main source of demographic data, ensuring reliable and accurate information.\n"
   ]
  },
  {
   "cell_type": "markdown",
   "metadata": {},
   "source": [
    "# Initial Insights from the Citibike Dataset\n",
    "\n",
    "- The dataset includes detailed trip information with columns such as ride ID, bike type, start and end timestamps, station names and IDs, latitude and longitude for both start and end points, and user type (member or casual).\n",
    "- It contains **3,217,063 rows** and **13 columns**.\n",
    "- There are **6 columns with multiple NA values**.\n",
    "- There are **9 columns with data type 'object'** and **4 columns with data type 'float64'**.\n",
    "\n",
    "## Questions We Plan to Answer\n",
    "\n",
    "1. **Which stations are the most popular for starting and ending rides?**\n",
    "   - Determine the busiest stations.\n",
    "\n",
    "2. **What is the average duration of rides, and how does it vary between different bike types (e.g., electric vs. standard bikes)?**\n",
    "   - Analyze whether certain bike types are preferred for longer or shorter rides.\n",
    "\n",
    "3. **How does user behavior differ between members and casual users in terms of trip duration, start times, and station preferences?**\n",
    "   - Provide insights into membership trends.\n",
    "\n",
    "4. **What are the peak usage hours and days for Citibike in July 2024?**\n",
    "   - Identify the most common times for bike usage to understand demand patterns.\n",
    "\n",
    "5. **How do weather conditions (e.g., temperature, precipitation) affect Citibike usage?**\n",
    "   - Use the supplementary weather data to correlate environmental factors with ride patterns and predict demand under different weather scenarios.\n",
    "\n",
    "6. **What geographic trends are observable in ride routes and bike type distribution across different NYC areas?**\n",
    "   - Map out usage patterns by area to identify regions with higher electric bike demand or unique route characteristics.\n",
    "\n",
    "With these questions, we aim to achieve actionable insights that can help the rideshare in New York City. These questions are a starting point, and we are open to switching or adding more questions as we discover new insights.\n"
   ]
  },
  {
   "cell_type": "markdown",
   "metadata": {
    "tags": []
   },
   "source": [
    "# References\n",
    "\n",
    "1. NYC Department of Transportation. (2024). *Citibike Trip Data - July 2024*. pd.read_csv('202404-citibike-tripdata.csv')\n",
    "2. NOAA National Centers for Environmental Information. (n.d.). *NOAA Climate and Weather Data*.[https://www.ncdc.noaa.gov](https://www.ncdc.noaa.gov)\n",
    "3. U.S. Census Bureau. (n.d.). *Demographic Data*. [https://www.census.gov/data.html](https://www.census.gov/data.html)\n",
    "4. Pandas (import pandas as pd)\n",
    "5. Matplotlib Documentation (import matplotlib as mpl)\n",
    "6. Seaborn Documentation (import seaborn as sb) \n",
    "\n"
   ]
  },
  {
   "cell_type": "code",
   "execution_count": null,
   "metadata": {},
   "outputs": [],
   "source": []
  }
 ],
 "metadata": {
  "kernelspec": {
   "display_name": "Python 3 (ipykernel)",
   "language": "python",
   "name": "python3"
  },
  "language_info": {
   "codemirror_mode": {
    "name": "ipython",
    "version": 3
   },
   "file_extension": ".py",
   "mimetype": "text/x-python",
   "name": "python",
   "nbconvert_exporter": "python",
   "pygments_lexer": "ipython3",
   "version": "3.11.7"
  },
  "varInspector": {
   "cols": {
    "lenName": 16,
    "lenType": 16,
    "lenVar": 40
   },
   "kernels_config": {
    "python": {
     "delete_cmd_postfix": "",
     "delete_cmd_prefix": "del ",
     "library": "var_list.py",
     "varRefreshCmd": "print(var_dic_list())"
    },
    "r": {
     "delete_cmd_postfix": ") ",
     "delete_cmd_prefix": "rm(",
     "library": "var_list.r",
     "varRefreshCmd": "cat(var_dic_list()) "
    }
   },
   "types_to_exclude": [
    "module",
    "function",
    "builtin_function_or_method",
    "instance",
    "_Feature"
   ],
   "window_display": false
  }
 },
 "nbformat": 4,
 "nbformat_minor": 4
}
